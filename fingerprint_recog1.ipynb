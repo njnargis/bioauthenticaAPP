{
 "cells": [
  {
   "cell_type": "code",
   "execution_count": 1,
   "id": "61a73585-1477-4897-af5d-7bb323a150b1",
   "metadata": {},
   "outputs": [
    {
     "name": "stdout",
     "output_type": "stream",
     "text": [
      "D:\\G\\python\\fingerprint\\ven\\Scripts\\python.exe\n"
     ]
    }
   ],
   "source": [
    "import sys\n",
    "print(sys.executable)\n"
   ]
  },
  {
   "cell_type": "code",
   "execution_count": 1,
   "id": "1b8a1fb7-512b-4c7d-856d-a18c3bf6e2fb",
   "metadata": {},
   "outputs": [],
   "source": [
    "import cv2\n",
    "import matplotlib.pyplot as plt\n",
    "import numpy as np\n",
    "import glob, os\n",
    "from keras.models import Model, load_model\n",
    "from sklearn.utils import shuffle\n",
    "from imgaug import augmenters as iaa\n",
    "\n",
    "import random"
   ]
  },
  {
   "cell_type": "code",
   "execution_count": 2,
   "id": "3736c18a-e852-4acd-a5b9-1fd2b9d39a34",
   "metadata": {},
   "outputs": [],
   "source": [
    "npz_file = np.load('dataset/x_real_reshaped.npz')\n",
    "\n",
    "# Extract the array from the loaded file\n",
    "re= npz_file['data']\n",
    "\n",
    "import cv2\n",
    "\n",
    "resized_images = []\n",
    "for img in re:\n",
    "    resized_img = cv2.resize(img, (90, 90))\n",
    "    resized_images.append(resized_img)\n",
    "\n",
    "resized_images = np.array(resized_images)\n",
    "x_real_resized = resized_images[..., np.newaxis]\n",
    "\n"
   ]
  },
  {
   "cell_type": "code",
   "execution_count": 3,
   "id": "6ce8d972-baf9-4b39-b75f-b1e9e0037dcc",
   "metadata": {},
   "outputs": [],
   "source": [
    "npz_file = np.load('dataset/x_medium_reshaped.npz')\n",
    "\n",
    "# Extract the array from the loaded file\n",
    "med= npz_file['data']\n",
    "import cv2\n",
    "\n",
    "resized_images = []\n",
    "for img in med:\n",
    "    resized_img = cv2.resize(img, (90, 90))\n",
    "    resized_images.append(resized_img)\n",
    "\n",
    "resized_images = np.array(resized_images)\n",
    "x_med_resized = resized_images[..., np.newaxis]"
   ]
  },
  {
   "cell_type": "markdown",
   "id": "d0a157d3-8272-4318-9b74-cefa2425bfc0",
   "metadata": {},
   "source": [
    "# LOAD DATASET"
   ]
  },
  {
   "cell_type": "code",
   "execution_count": 4,
   "id": "1c935dc8-6e8c-44f3-9364-dd5739938424",
   "metadata": {},
   "outputs": [
    {
     "name": "stdout",
     "output_type": "stream",
     "text": [
      "(6000, 90, 90, 1) (6000, 4)\n"
     ]
    }
   ],
   "source": [
    "x_real = x_real_resized\n",
    "y_real = np.load('dataset/y_real.npy')\n",
    "x_medium = x_med_resized\n",
    "y_medium = np.load('dataset/y_medium.npy')\n",
    "print(x_real.shape, y_real.shape)\n"
   ]
  },
  {
   "cell_type": "markdown",
   "id": "6b05a8a2-4c7f-4e90-8b1d-cbbef83d8ace",
   "metadata": {},
   "source": [
    "#  Test data\n"
   ]
  },
  {
   "cell_type": "code",
   "execution_count": 5,
   "id": "4dc7bc66-cda4-4db2-a1e0-93fa8e2e3647",
   "metadata": {},
   "outputs": [
    {
     "name": "stdout",
     "output_type": "stream",
     "text": [
      "(17067, 90, 90, 1) (17067, 4)\n"
     ]
    }
   ],
   "source": [
    "x_data = x_medium\n",
    "label_data = y_medium \n",
    "print(x_data.shape, label_data.shape)\n"
   ]
  },
  {
   "cell_type": "markdown",
   "id": "37e115c6-30ce-4f36-9004-b9036b21267a",
   "metadata": {},
   "source": [
    "# Make Label Dictionary Lookup Table"
   ]
  },
  {
   "cell_type": "code",
   "execution_count": 6,
   "id": "cdc58823-91b1-413b-9c07-dafb900dffb5",
   "metadata": {},
   "outputs": [],
   "source": [
    "label_real_dict = {}\n",
    "\n",
    "for i, y in enumerate(y_real):\n",
    "    key = y.astype(str)\n",
    "    key = ''.join(key).zfill(6)\n",
    "\n",
    "    label_real_dict[key] = i"
   ]
  },
  {
   "cell_type": "markdown",
   "id": "3a9c8866-c730-44c7-b2c7-2e0bfb47aafe",
   "metadata": {},
   "source": [
    "# Testing\n"
   ]
  },
  {
   "cell_type": "code",
   "execution_count": 7,
   "id": "20aca455-33b5-4c02-bdfd-133c313e7ac0",
   "metadata": {},
   "outputs": [
    {
     "name": "stdout",
     "output_type": "stream",
     "text": [
      "Directory 'D:/G/python/fingerprint/ven/my_model' exists.\n",
      "Root: D:/G/python/fingerprint/ven/my_model\n",
      "Directories: ['assets', 'variables']\n",
      "Files: ['fingerprint.pb', 'keras_metadata.pb', 'saved_model.pb']\n",
      "Root: D:/G/python/fingerprint/ven/my_model\\assets\n",
      "Directories: []\n",
      "Files: []\n",
      "Root: D:/G/python/fingerprint/ven/my_model\\variables\n",
      "Directories: []\n",
      "Files: ['variables.data-00000-of-00001', 'variables.index']\n"
     ]
    }
   ],
   "source": [
    "import os\n",
    "\n",
    "model_dir = 'D:/G/python/fingerprint/ven/my_model'\n",
    "\n",
    "# Check if the directory exists\n",
    "if os.path.exists(model_dir):\n",
    "    print(f\"Directory '{model_dir}' exists.\")\n",
    "else:\n",
    "    print(f\"Directory '{model_dir}' does not exist.\")\n",
    "\n",
    "# List the contents of the directory\n",
    "for root, dirs, files in os.walk(model_dir):\n",
    "    print(f\"Root: {root}\")\n",
    "    print(f\"Directories: {dirs}\")\n",
    "    print(f\"Files: {files}\")\n"
   ]
  },
  {
   "cell_type": "code",
   "execution_count": 13,
   "id": "4c1d8e5d-50b4-4d04-a2c7-97c2fe42c0d3",
   "metadata": {},
   "outputs": [
    {
     "ename": "OSError",
     "evalue": "SavedModel file does not exist at: D:\\G\\python\\fingerprint\\ven\\ven\\my_model\\{saved_model.pbtxt|saved_model.pb}",
     "output_type": "error",
     "traceback": [
      "\u001b[1;31m---------------------------------------------------------------------------\u001b[0m",
      "\u001b[1;31mOSError\u001b[0m                                   Traceback (most recent call last)",
      "Cell \u001b[1;32mIn[13], line 10\u001b[0m\n\u001b[0;32m      6\u001b[0m \u001b[38;5;66;03m# Set experimental I/O device options\u001b[39;00m\n\u001b[0;32m      7\u001b[0m options \u001b[38;5;241m=\u001b[39m tf\u001b[38;5;241m.\u001b[39msaved_model\u001b[38;5;241m.\u001b[39mLoadOptions(\n\u001b[0;32m      8\u001b[0m     experimental_io_device\u001b[38;5;241m=\u001b[39m\u001b[38;5;124m'\u001b[39m\u001b[38;5;124m/job:localhost\u001b[39m\u001b[38;5;124m'\u001b[39m\n\u001b[0;32m      9\u001b[0m )\n\u001b[1;32m---> 10\u001b[0m model \u001b[38;5;241m=\u001b[39m \u001b[43mtf\u001b[49m\u001b[38;5;241;43m.\u001b[39;49m\u001b[43msaved_model\u001b[49m\u001b[38;5;241;43m.\u001b[39;49m\u001b[43mload\u001b[49m\u001b[43m(\u001b[49m\u001b[43mmodel_dir\u001b[49m\u001b[43m,\u001b[49m\u001b[43m \u001b[49m\u001b[43moptions\u001b[49m\u001b[38;5;241;43m=\u001b[39;49m\u001b[43moptions\u001b[49m\u001b[43m)\u001b[49m\n",
      "File \u001b[1;32mD:\\G\\python\\fingerprint\\ven\\lib\\site-packages\\tensorflow\\python\\saved_model\\load.py:900\u001b[0m, in \u001b[0;36mload\u001b[1;34m(export_dir, tags, options)\u001b[0m\n\u001b[0;32m    809\u001b[0m \u001b[38;5;129m@tf_export\u001b[39m(\u001b[38;5;124m\"\u001b[39m\u001b[38;5;124msaved_model.load\u001b[39m\u001b[38;5;124m\"\u001b[39m, v1\u001b[38;5;241m=\u001b[39m[\u001b[38;5;124m\"\u001b[39m\u001b[38;5;124msaved_model.load_v2\u001b[39m\u001b[38;5;124m\"\u001b[39m])\n\u001b[0;32m    810\u001b[0m \u001b[38;5;28;01mdef\u001b[39;00m \u001b[38;5;21mload\u001b[39m(export_dir, tags\u001b[38;5;241m=\u001b[39m\u001b[38;5;28;01mNone\u001b[39;00m, options\u001b[38;5;241m=\u001b[39m\u001b[38;5;28;01mNone\u001b[39;00m):\n\u001b[0;32m    811\u001b[0m \u001b[38;5;250m  \u001b[39m\u001b[38;5;124;03m\"\"\"Load a SavedModel from `export_dir`.\u001b[39;00m\n\u001b[0;32m    812\u001b[0m \n\u001b[0;32m    813\u001b[0m \u001b[38;5;124;03m  Signatures associated with the SavedModel are available as functions:\u001b[39;00m\n\u001b[1;32m   (...)\u001b[0m\n\u001b[0;32m    898\u001b[0m \u001b[38;5;124;03m    ValueError: If `tags` don't match a MetaGraph in the SavedModel.\u001b[39;00m\n\u001b[0;32m    899\u001b[0m \u001b[38;5;124;03m  \"\"\"\u001b[39;00m\n\u001b[1;32m--> 900\u001b[0m   result \u001b[38;5;241m=\u001b[39m \u001b[43mload_internal\u001b[49m\u001b[43m(\u001b[49m\u001b[43mexport_dir\u001b[49m\u001b[43m,\u001b[49m\u001b[43m \u001b[49m\u001b[43mtags\u001b[49m\u001b[43m,\u001b[49m\u001b[43m \u001b[49m\u001b[43moptions\u001b[49m\u001b[43m)\u001b[49m[\u001b[38;5;124m\"\u001b[39m\u001b[38;5;124mroot\u001b[39m\u001b[38;5;124m\"\u001b[39m]\n\u001b[0;32m    901\u001b[0m   \u001b[38;5;28;01mreturn\u001b[39;00m result\n",
      "File \u001b[1;32mD:\\G\\python\\fingerprint\\ven\\lib\\site-packages\\tensorflow\\python\\saved_model\\load.py:913\u001b[0m, in \u001b[0;36mload_internal\u001b[1;34m(export_dir, tags, options, loader_cls, filters)\u001b[0m\n\u001b[0;32m    908\u001b[0m \u001b[38;5;28;01mif\u001b[39;00m tags \u001b[38;5;129;01mis\u001b[39;00m \u001b[38;5;129;01mnot\u001b[39;00m \u001b[38;5;28;01mNone\u001b[39;00m \u001b[38;5;129;01mand\u001b[39;00m \u001b[38;5;129;01mnot\u001b[39;00m \u001b[38;5;28misinstance\u001b[39m(tags, \u001b[38;5;28mset\u001b[39m):\n\u001b[0;32m    909\u001b[0m   \u001b[38;5;66;03m# Supports e.g. tags=SERVING and tags=[SERVING]. Sets aren't considered\u001b[39;00m\n\u001b[0;32m    910\u001b[0m   \u001b[38;5;66;03m# sequences for nest.flatten, so we put those through as-is.\u001b[39;00m\n\u001b[0;32m    911\u001b[0m   tags \u001b[38;5;241m=\u001b[39m nest\u001b[38;5;241m.\u001b[39mflatten(tags)\n\u001b[0;32m    912\u001b[0m saved_model_proto, debug_info \u001b[38;5;241m=\u001b[39m (\n\u001b[1;32m--> 913\u001b[0m     \u001b[43mloader_impl\u001b[49m\u001b[38;5;241;43m.\u001b[39;49m\u001b[43mparse_saved_model_with_debug_info\u001b[49m\u001b[43m(\u001b[49m\u001b[43mexport_dir\u001b[49m\u001b[43m)\u001b[49m)\n\u001b[0;32m    915\u001b[0m \u001b[38;5;28;01mif\u001b[39;00m (\u001b[38;5;28mlen\u001b[39m(saved_model_proto\u001b[38;5;241m.\u001b[39mmeta_graphs) \u001b[38;5;241m==\u001b[39m \u001b[38;5;241m1\u001b[39m \u001b[38;5;129;01mand\u001b[39;00m\n\u001b[0;32m    916\u001b[0m     saved_model_proto\u001b[38;5;241m.\u001b[39mmeta_graphs[\u001b[38;5;241m0\u001b[39m]\u001b[38;5;241m.\u001b[39mHasField(\u001b[38;5;124m\"\u001b[39m\u001b[38;5;124mobject_graph_def\u001b[39m\u001b[38;5;124m\"\u001b[39m)):\n\u001b[0;32m    917\u001b[0m   metrics\u001b[38;5;241m.\u001b[39mIncrementReadApi(_LOAD_V2_LABEL)\n",
      "File \u001b[1;32mD:\\G\\python\\fingerprint\\ven\\lib\\site-packages\\tensorflow\\python\\saved_model\\loader_impl.py:60\u001b[0m, in \u001b[0;36mparse_saved_model_with_debug_info\u001b[1;34m(export_dir)\u001b[0m\n\u001b[0;32m     47\u001b[0m \u001b[38;5;28;01mdef\u001b[39;00m \u001b[38;5;21mparse_saved_model_with_debug_info\u001b[39m(export_dir):\n\u001b[0;32m     48\u001b[0m \u001b[38;5;250m  \u001b[39m\u001b[38;5;124;03m\"\"\"Reads the savedmodel as well as the graph debug info.\u001b[39;00m\n\u001b[0;32m     49\u001b[0m \n\u001b[0;32m     50\u001b[0m \u001b[38;5;124;03m  Args:\u001b[39;00m\n\u001b[1;32m   (...)\u001b[0m\n\u001b[0;32m     58\u001b[0m \u001b[38;5;124;03m    parsed. Missing graph debug info file is fine.\u001b[39;00m\n\u001b[0;32m     59\u001b[0m \u001b[38;5;124;03m  \"\"\"\u001b[39;00m\n\u001b[1;32m---> 60\u001b[0m   saved_model \u001b[38;5;241m=\u001b[39m \u001b[43m_parse_saved_model\u001b[49m\u001b[43m(\u001b[49m\u001b[43mexport_dir\u001b[49m\u001b[43m)\u001b[49m\n\u001b[0;32m     62\u001b[0m   debug_info_path \u001b[38;5;241m=\u001b[39m file_io\u001b[38;5;241m.\u001b[39mjoin(\n\u001b[0;32m     63\u001b[0m       saved_model_utils\u001b[38;5;241m.\u001b[39mget_debug_dir(export_dir),\n\u001b[0;32m     64\u001b[0m       constants\u001b[38;5;241m.\u001b[39mDEBUG_INFO_FILENAME_PB)\n\u001b[0;32m     65\u001b[0m   debug_info \u001b[38;5;241m=\u001b[39m graph_debug_info_pb2\u001b[38;5;241m.\u001b[39mGraphDebugInfo()\n",
      "File \u001b[1;32mD:\\G\\python\\fingerprint\\ven\\lib\\site-packages\\tensorflow\\python\\saved_model\\loader_impl.py:118\u001b[0m, in \u001b[0;36mparse_saved_model\u001b[1;34m(export_dir)\u001b[0m\n\u001b[0;32m    116\u001b[0m     \u001b[38;5;28;01mraise\u001b[39;00m \u001b[38;5;167;01mIOError\u001b[39;00m(\u001b[38;5;124mf\u001b[39m\u001b[38;5;124m\"\u001b[39m\u001b[38;5;124mCannot parse file \u001b[39m\u001b[38;5;132;01m{\u001b[39;00mpath_to_pbtxt\u001b[38;5;132;01m}\u001b[39;00m\u001b[38;5;124m: \u001b[39m\u001b[38;5;132;01m{\u001b[39;00m\u001b[38;5;28mstr\u001b[39m(e)\u001b[38;5;132;01m}\u001b[39;00m\u001b[38;5;124m.\u001b[39m\u001b[38;5;124m\"\u001b[39m)\n\u001b[0;32m    117\u001b[0m \u001b[38;5;28;01melse\u001b[39;00m:\n\u001b[1;32m--> 118\u001b[0m   \u001b[38;5;28;01mraise\u001b[39;00m \u001b[38;5;167;01mIOError\u001b[39;00m(\n\u001b[0;32m    119\u001b[0m       \u001b[38;5;124mf\u001b[39m\u001b[38;5;124m\"\u001b[39m\u001b[38;5;124mSavedModel file does not exist at: \u001b[39m\u001b[38;5;132;01m{\u001b[39;00mexport_dir\u001b[38;5;132;01m}\u001b[39;00m\u001b[38;5;132;01m{\u001b[39;00mos\u001b[38;5;241m.\u001b[39mpath\u001b[38;5;241m.\u001b[39msep\u001b[38;5;132;01m}\u001b[39;00m\u001b[38;5;124m\"\u001b[39m\n\u001b[0;32m    120\u001b[0m       \u001b[38;5;124mf\u001b[39m\u001b[38;5;124m\"\u001b[39m\u001b[38;5;130;01m{{\u001b[39;00m\u001b[38;5;132;01m{\u001b[39;00mconstants\u001b[38;5;241m.\u001b[39mSAVED_MODEL_FILENAME_PBTXT\u001b[38;5;132;01m}\u001b[39;00m\u001b[38;5;124m|\u001b[39m\u001b[38;5;124m\"\u001b[39m\n\u001b[0;32m    121\u001b[0m       \u001b[38;5;124mf\u001b[39m\u001b[38;5;124m\"\u001b[39m\u001b[38;5;132;01m{\u001b[39;00mconstants\u001b[38;5;241m.\u001b[39mSAVED_MODEL_FILENAME_PB\u001b[38;5;132;01m}\u001b[39;00m\u001b[38;5;130;01m}}\u001b[39;00m\u001b[38;5;124m\"\u001b[39m)\n",
      "\u001b[1;31mOSError\u001b[0m: SavedModel file does not exist at: D:\\G\\python\\fingerprint\\ven\\ven\\my_model\\{saved_model.pbtxt|saved_model.pb}"
     ]
    }
   ],
   "source": [
    "import tensorflow as tf\n",
    "import os\n",
    "\n",
    "# Get the absolute path to avoid any path-related issues\n",
    "model_dir = os.path.abspath('ven/my_model')\n",
    "# Set experimental I/O device options\n",
    "options = tf.saved_model.LoadOptions(\n",
    "    experimental_io_device='/job:localhost'\n",
    ")\n",
    "model = tf.saved_model.load(model_dir, options=options)\n"
   ]
  },
  {
   "cell_type": "code",
   "execution_count": 16,
   "id": "67a94083-b3c4-49cb-9c0a-112035fea957",
   "metadata": {},
   "outputs": [
    {
     "ename": "FileNotFoundError",
     "evalue": "Op type not registered 'DisableCopyOnRead' in binary running on RS-PC. Make sure the Op and Kernel are registered in the binary running in this process. Note that if you are loading a saved graph which used ops from tf.contrib, accessing (e.g.) `tf.contrib.resampler` should be done before importing the graph, as contrib ops are lazily registered when the module is first accessed.\n You may be trying to load on a different device from the computational device. Consider setting the `experimental_io_device` option in `tf.saved_model.LoadOptions` to the io_device such as '/job:localhost'.",
     "output_type": "error",
     "traceback": [
      "\u001b[1;31m---------------------------------------------------------------------------\u001b[0m",
      "\u001b[1;31mFileNotFoundError\u001b[0m                         Traceback (most recent call last)",
      "Cell \u001b[1;32mIn[16], line 8\u001b[0m\n\u001b[0;32m      5\u001b[0m model_dir \u001b[38;5;241m=\u001b[39m \u001b[38;5;124m'\u001b[39m\u001b[38;5;124mD:/G/python/fingerprint/ven/my_model\u001b[39m\u001b[38;5;124m'\u001b[39m\n\u001b[0;32m      7\u001b[0m \u001b[38;5;66;03m# Load the model\u001b[39;00m\n\u001b[1;32m----> 8\u001b[0m model \u001b[38;5;241m=\u001b[39m \u001b[43mload_model\u001b[49m\u001b[43m(\u001b[49m\u001b[43mmodel_dir\u001b[49m\u001b[43m)\u001b[49m\n",
      "File \u001b[1;32mD:\\G\\python\\fingerprint\\ven\\lib\\site-packages\\keras\\utils\\traceback_utils.py:67\u001b[0m, in \u001b[0;36mfilter_traceback.<locals>.error_handler\u001b[1;34m(*args, **kwargs)\u001b[0m\n\u001b[0;32m     65\u001b[0m \u001b[38;5;28;01mexcept\u001b[39;00m \u001b[38;5;167;01mException\u001b[39;00m \u001b[38;5;28;01mas\u001b[39;00m e:  \u001b[38;5;66;03m# pylint: disable=broad-except\u001b[39;00m\n\u001b[0;32m     66\u001b[0m   filtered_tb \u001b[38;5;241m=\u001b[39m _process_traceback_frames(e\u001b[38;5;241m.\u001b[39m__traceback__)\n\u001b[1;32m---> 67\u001b[0m   \u001b[38;5;28;01mraise\u001b[39;00m e\u001b[38;5;241m.\u001b[39mwith_traceback(filtered_tb) \u001b[38;5;28;01mfrom\u001b[39;00m \u001b[38;5;28;01mNone\u001b[39;00m\n\u001b[0;32m     68\u001b[0m \u001b[38;5;28;01mfinally\u001b[39;00m:\n\u001b[0;32m     69\u001b[0m   \u001b[38;5;28;01mdel\u001b[39;00m filtered_tb\n",
      "File \u001b[1;32mD:\\G\\python\\fingerprint\\ven\\lib\\site-packages\\tensorflow\\python\\saved_model\\load.py:941\u001b[0m, in \u001b[0;36mload_internal\u001b[1;34m(export_dir, tags, options, loader_cls, filters)\u001b[0m\n\u001b[0;32m    938\u001b[0m   loader \u001b[38;5;241m=\u001b[39m loader_cls(object_graph_proto, saved_model_proto, export_dir,\n\u001b[0;32m    939\u001b[0m                       ckpt_options, options, filters)\n\u001b[0;32m    940\u001b[0m \u001b[38;5;28;01mexcept\u001b[39;00m errors\u001b[38;5;241m.\u001b[39mNotFoundError \u001b[38;5;28;01mas\u001b[39;00m err:\n\u001b[1;32m--> 941\u001b[0m   \u001b[38;5;28;01mraise\u001b[39;00m \u001b[38;5;167;01mFileNotFoundError\u001b[39;00m(\n\u001b[0;32m    942\u001b[0m       \u001b[38;5;28mstr\u001b[39m(err) \u001b[38;5;241m+\u001b[39m \u001b[38;5;124m\"\u001b[39m\u001b[38;5;130;01m\\n\u001b[39;00m\u001b[38;5;124m You may be trying to load on a different device \u001b[39m\u001b[38;5;124m\"\u001b[39m\n\u001b[0;32m    943\u001b[0m       \u001b[38;5;124m\"\u001b[39m\u001b[38;5;124mfrom the computational device. Consider setting the \u001b[39m\u001b[38;5;124m\"\u001b[39m\n\u001b[0;32m    944\u001b[0m       \u001b[38;5;124m\"\u001b[39m\u001b[38;5;124m`experimental_io_device` option in `tf.saved_model.LoadOptions` \u001b[39m\u001b[38;5;124m\"\u001b[39m\n\u001b[0;32m    945\u001b[0m       \u001b[38;5;124m\"\u001b[39m\u001b[38;5;124mto the io_device such as \u001b[39m\u001b[38;5;124m'\u001b[39m\u001b[38;5;124m/job:localhost\u001b[39m\u001b[38;5;124m'\u001b[39m\u001b[38;5;124m.\u001b[39m\u001b[38;5;124m\"\u001b[39m)\n\u001b[0;32m    946\u001b[0m root \u001b[38;5;241m=\u001b[39m loader\u001b[38;5;241m.\u001b[39mget(\u001b[38;5;241m0\u001b[39m)\n\u001b[0;32m    947\u001b[0m \u001b[38;5;28;01mif\u001b[39;00m \u001b[38;5;28misinstance\u001b[39m(loader, Loader):\n",
      "\u001b[1;31mFileNotFoundError\u001b[0m: Op type not registered 'DisableCopyOnRead' in binary running on RS-PC. Make sure the Op and Kernel are registered in the binary running in this process. Note that if you are loading a saved graph which used ops from tf.contrib, accessing (e.g.) `tf.contrib.resampler` should be done before importing the graph, as contrib ops are lazily registered when the module is first accessed.\n You may be trying to load on a different device from the computational device. Consider setting the `experimental_io_device` option in `tf.saved_model.LoadOptions` to the io_device such as '/job:localhost'."
     ]
    }
   ],
   "source": [
    "from keras.models import load_model\n",
    "import os\n",
    "\n",
    "# Get the absolute path to avoid any path-related issues\n",
    "model_dir = 'D:/G/python/fingerprint/ven/my_model'\n",
    "\n",
    "# Load the model\n",
    "model = load_model(model_dir)\n"
   ]
  },
  {
   "cell_type": "code",
   "execution_count": 17,
   "id": "5cdf2adc-4807-4b40-8473-0ec5148cd425",
   "metadata": {},
   "outputs": [
    {
     "name": "stdout",
     "output_type": "stream",
     "text": [
      "Error loading model: Op type not registered 'DisableCopyOnRead' in binary running on RS-PC. Make sure the Op and Kernel are registered in the binary running in this process. Note that if you are loading a saved graph which used ops from tf.contrib, accessing (e.g.) `tf.contrib.resampler` should be done before importing the graph, as contrib ops are lazily registered when the module is first accessed.\n",
      " You may be trying to load on a different device from the computational device. Consider setting the `experimental_io_device` option in `tf.saved_model.LoadOptions` to the io_device such as '/job:localhost'.\n"
     ]
    }
   ],
   "source": [
    "import os\n",
    "from tensorflow.keras.models import load_model\n",
    "\n",
    "model_dir = 'D:/G/python/fingerprint/ven/my_model'\n",
    "\n",
    "# Check if the model directory exists and contains the necessary files\n",
    "def check_model_dir(path):\n",
    "    required_files = ['saved_model.pb', 'variables']\n",
    "    if not os.path.exists(path):\n",
    "        return False\n",
    "    for file in required_files:\n",
    "        if not os.path.exists(os.path.join(path, file)):\n",
    "            return False\n",
    "    return True\n",
    "\n",
    "if not check_model_dir(model_dir):\n",
    "    print(f\"Model directory {model_dir} does not exist or is incomplete.\")\n",
    "else:\n",
    "    try:\n",
    "        model = load_model(model_dir)\n",
    "        print(\"Model loaded successfully.\")\n",
    "    except FileNotFoundError as e:\n",
    "        print(f\"Error loading model: {e}\")\n",
    "    except Exception as e:\n",
    "        print(f\"An unexpected error occurred: {e}\")\n"
   ]
  },
  {
   "cell_type": "code",
   "execution_count": 19,
   "id": "d7258c5b-75ef-4fc3-8b75-7df1f0610e6a",
   "metadata": {},
   "outputs": [
    {
     "name": "stdout",
     "output_type": "stream",
     "text": [
      "An unexpected error occurred: Op type not registered 'DisableCopyOnRead' in binary running on RS-PC. Make sure the Op and Kernel are registered in the binary running in this process. Note that if you are loading a saved graph which used ops from tf.contrib, accessing (e.g.) `tf.contrib.resampler` should be done before importing the graph, as contrib ops are lazily registered when the module is first accessed.\n",
      " You may be trying to load on a different device from the computational device. Consider setting the `experimental_io_device` option in `tf.saved_model.LoadOptions` to the io_device such as '/job:localhost'.\n"
     ]
    }
   ],
   "source": [
    "import tensorflow as tf\n",
    "\n",
    "model_dir = 'D:/G/python/fingerprint/ven/my_model'\n",
    "\n",
    "# Check if the model directory exists\n",
    "if not os.path.exists(model_dir):\n",
    "    print(f\"Model directory {model_dir} does not exist.\")\n",
    "else:\n",
    "    try:\n",
    "        # Setting the experimental_io_device option\n",
    "        options = tf.saved_model.LoadOptions(experimental_io_device='/job:localhost')\n",
    "        model = tf.keras.models.load_model(model_dir, options=options)\n",
    "        print(\"Model loaded successfully.\")\n",
    "    except tf.errors.OpError as e:\n",
    "        print(f\"Error loading model: {e}\")\n",
    "    except Exception as e:\n",
    "        print(f\"An unexpected error occurred: {e}\")\n"
   ]
  },
  {
   "cell_type": "code",
   "execution_count": 20,
   "id": "586bf816-2f83-4915-87b0-e7a62cee1225",
   "metadata": {},
   "outputs": [
    {
     "ename": "NameError",
     "evalue": "name 'model' is not defined",
     "output_type": "error",
     "traceback": [
      "\u001b[1;31m---------------------------------------------------------------------------\u001b[0m",
      "\u001b[1;31mNameError\u001b[0m                                 Traceback (most recent call last)",
      "Cell \u001b[1;32mIn[20], line 27\u001b[0m\n\u001b[0;32m     24\u001b[0m rx \u001b[38;5;241m=\u001b[39m x_real[label_real_dict[match_key]]\u001b[38;5;241m.\u001b[39mreshape((\u001b[38;5;241m1\u001b[39m, \u001b[38;5;241m90\u001b[39m, \u001b[38;5;241m90\u001b[39m, \u001b[38;5;241m1\u001b[39m))\u001b[38;5;241m.\u001b[39mastype(np\u001b[38;5;241m.\u001b[39mfloat32) \u001b[38;5;241m/\u001b[39m \u001b[38;5;241m255.\u001b[39m\n\u001b[0;32m     25\u001b[0m ry \u001b[38;5;241m=\u001b[39m y_real[label_real_dict[match_key]]\n\u001b[1;32m---> 27\u001b[0m pred_rx \u001b[38;5;241m=\u001b[39m \u001b[43mmodel\u001b[49m\u001b[38;5;241m.\u001b[39mpredict([random_img, rx])\n\u001b[0;32m     29\u001b[0m \u001b[38;5;66;03m# unmatched image\u001b[39;00m\n\u001b[0;32m     30\u001b[0m unmatch_key, unmatch_idx \u001b[38;5;241m=\u001b[39m random\u001b[38;5;241m.\u001b[39mchoice(\u001b[38;5;28mlist\u001b[39m(label_real_dict\u001b[38;5;241m.\u001b[39mitems()))\n",
      "\u001b[1;31mNameError\u001b[0m: name 'model' is not defined"
     ]
    }
   ],
   "source": [
    "\n",
    "# new user fingerprint input\n",
    "random_idx = random.randint(0, len(x_data))\n",
    "\n",
    "random_img = x_data[random_idx]\n",
    "random_label = label_data[random_idx]\n",
    "\n",
    "seq = iaa.Sequential([\n",
    "    iaa.GaussianBlur(sigma=(0, 0.5)),\n",
    "    iaa.Affine(\n",
    "        scale={\"x\": (0.9, 1.1), \"y\": (0.9, 1.1)},\n",
    "        translate_percent={\"x\": (-0.1, 0.1), \"y\": (-0.1, 0.1)},\n",
    "        rotate=(-30, 30),\n",
    "        order=[0, 1],\n",
    "        cval=255\n",
    "    )\n",
    "], random_order=True)\n",
    "\n",
    "random_img = seq.augment_image(random_img).reshape((1, 90, 90, 1)).astype(np.float32) / 255.\n",
    "\n",
    "# matched image\n",
    "match_key = random_label.astype(str)\n",
    "match_key = ''.join(match_key).zfill(6)\n",
    "\n",
    "rx = x_real[label_real_dict[match_key]].reshape((1, 90, 90, 1)).astype(np.float32) / 255.\n",
    "ry = y_real[label_real_dict[match_key]]\n",
    "\n",
    "pred_rx = model.predict([random_img, rx])\n",
    "\n",
    "# unmatched image\n",
    "unmatch_key, unmatch_idx = random.choice(list(label_real_dict.items()))\n",
    "\n",
    "ux = x_real[unmatch_idx].reshape((1, 90, 90, 1)).astype(np.float32) / 255.\n",
    "uy = y_real[unmatch_idx]\n",
    "\n",
    "pred_ux = model.predict([random_img, ux])\n",
    "\n",
    "plt.figure(figsize=(8, 4))\n",
    "plt.subplot(1, 3, 1)\n",
    "plt.title('Input: %s' %random_label)\n",
    "plt.imshow(random_img.squeeze(), cmap='gray')\n",
    "plt.subplot(1, 3, 2)\n",
    "plt.title('O: %.02f, %s' % (pred_rx, ry))\n",
    "plt.imshow(rx.squeeze(), cmap='gray')\n",
    "plt.subplot(1, 3, 3)\n",
    "plt.title('X: %.02f, %s' % (pred_ux, uy))\n",
    "plt.imshow(ux.squeeze(), cmap='gray')\n"
   ]
  },
  {
   "cell_type": "code",
   "execution_count": null,
   "id": "ee1b79b2-0dd8-4157-95a0-641327cdcbb9",
   "metadata": {},
   "outputs": [],
   "source": []
  },
  {
   "cell_type": "code",
   "execution_count": null,
   "id": "1af0c286-c6dc-42b3-bca7-69c3e1724cd5",
   "metadata": {},
   "outputs": [],
   "source": []
  }
 ],
 "metadata": {
  "kernelspec": {
   "display_name": "ML KERNEL",
   "language": "python",
   "name": "ven"
  },
  "language_info": {
   "codemirror_mode": {
    "name": "ipython",
    "version": 3
   },
   "file_extension": ".py",
   "mimetype": "text/x-python",
   "name": "python",
   "nbconvert_exporter": "python",
   "pygments_lexer": "ipython3",
   "version": "3.8.0"
  }
 },
 "nbformat": 4,
 "nbformat_minor": 5
}
